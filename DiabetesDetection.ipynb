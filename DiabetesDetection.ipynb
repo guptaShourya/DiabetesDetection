{
  "nbformat": 4,
  "nbformat_minor": 0,
  "metadata": {
    "colab": {
      "name": "DiabetesDetection.ipynb",
      "provenance": [],
      "authorship_tag": "ABX9TyN5R8Bh8nqKdtKfDjg3P1Ni",
      "include_colab_link": true
    },
    "kernelspec": {
      "name": "python3",
      "display_name": "Python 3"
    },
    "language_info": {
      "name": "python"
    }
  },
  "cells": [
    {
      "cell_type": "markdown",
      "metadata": {
        "id": "view-in-github",
        "colab_type": "text"
      },
      "source": [
        "<a href=\"https://colab.research.google.com/github/guptaShourya/DiabetesDetection/blob/main/DiabetesDetection.ipynb\" target=\"_parent\"><img src=\"https://colab.research.google.com/assets/colab-badge.svg\" alt=\"Open In Colab\"/></a>"
      ]
    },
    {
      "cell_type": "code",
      "metadata": {
        "colab": {
          "base_uri": "https://localhost:8080/"
        },
        "id": "_L436B3n-5cT",
        "outputId": "d1100615-1f52-41c8-fb4c-86f967aac0a5"
      },
      "source": [
        "import numpy as np #linear algebra\n",
        "import pandas as pd #data processing\n",
        "import matplotlib.pyplot as plt #data visualisation\n",
        "import seaborn as sns #data visualisation\n",
        "from google.colab import drive #drive\n",
        "drive.mount('/content/drive') #attach google drive\n",
        "from sklearn import model_selection #train, test split\n",
        "from imblearn.over_sampling import SMOTE #to over sample minority class (outcome = 1)\n",
        "from imblearn.under_sampling import RandomUnderSampler #to under sample majority class (outcome = 0)\n",
        "from sklearn.preprocessing import StandardScaler #standardisation\n",
        "from sklearn.model_selection import GridSearchCV #import GridSearchCV\n",
        "from sklearn.linear_model import LogisticRegression #import Linear Regression\n",
        "from sklearn.metrics import confusion_matrix #import confusion matrix\n",
        "from sklearn.tree import DecisionTreeClassifier #import Decision Tree model\n",
        "from sklearn.neighbors import KNeighborsClassifier #import KNN model\n",
        "from sklearn.metrics import f1_score\n",
        "from sklearn.ensemble import RandomForestClassifier\n",
        "#!pip install dataprep \n",
        "# !pip install datawig\n",
        "import datawig # to impute missing values\n",
        "sns.set()"
      ],
      "execution_count": 1,
      "outputs": [
        {
          "output_type": "stream",
          "name": "stdout",
          "text": [
            "Drive already mounted at /content/drive; to attempt to forcibly remount, call drive.mount(\"/content/drive\", force_remount=True).\n"
          ]
        },
        {
          "output_type": "stream",
          "name": "stderr",
          "text": [
            "/usr/local/lib/python3.7/dist-packages/sklearn/externals/six.py:31: FutureWarning: The module is deprecated in version 0.21 and will be removed in version 0.23 since we've dropped support for Python 2.7. Please rely on the official version of six (https://pypi.org/project/six/).\n",
            "  \"(https://pypi.org/project/six/).\", FutureWarning)\n",
            "/usr/local/lib/python3.7/dist-packages/sklearn/utils/deprecation.py:144: FutureWarning: The sklearn.neighbors.base module is  deprecated in version 0.22 and will be removed in version 0.24. The corresponding classes / functions should instead be imported from sklearn.neighbors. Anything that cannot be imported from sklearn.neighbors is now part of the private API.\n",
            "  warnings.warn(message, FutureWarning)\n"
          ]
        }
      ]
    },
    {
      "cell_type": "code",
      "metadata": {
        "id": "IxRMrKPe-U61"
      },
      "source": [
        "path = '/content/drive/My Drive/ML sem-5/Diabetes detection/data.csv'\n",
        "# import data\n",
        "data = pd.read_csv(path)"
      ],
      "execution_count": 2,
      "outputs": []
    },
    {
      "cell_type": "code",
      "metadata": {
        "colab": {
          "base_uri": "https://localhost:8080/",
          "height": 359
        },
        "id": "lY8ICYpw_IXh",
        "outputId": "ebf2dd10-5bba-4a15-e6b6-17e156c4fbe9"
      },
      "source": [
        "data.head(10) #display top 10 rows"
      ],
      "execution_count": 3,
      "outputs": [
        {
          "output_type": "execute_result",
          "data": {
            "text/html": [
              "<div>\n",
              "<style scoped>\n",
              "    .dataframe tbody tr th:only-of-type {\n",
              "        vertical-align: middle;\n",
              "    }\n",
              "\n",
              "    .dataframe tbody tr th {\n",
              "        vertical-align: top;\n",
              "    }\n",
              "\n",
              "    .dataframe thead th {\n",
              "        text-align: right;\n",
              "    }\n",
              "</style>\n",
              "<table border=\"1\" class=\"dataframe\">\n",
              "  <thead>\n",
              "    <tr style=\"text-align: right;\">\n",
              "      <th></th>\n",
              "      <th>Pregnancies</th>\n",
              "      <th>Glucose</th>\n",
              "      <th>BloodPressure</th>\n",
              "      <th>SkinThickness</th>\n",
              "      <th>Insulin</th>\n",
              "      <th>BMI</th>\n",
              "      <th>DiabetesPedigreeFunction</th>\n",
              "      <th>Age</th>\n",
              "      <th>Outcome</th>\n",
              "    </tr>\n",
              "  </thead>\n",
              "  <tbody>\n",
              "    <tr>\n",
              "      <th>0</th>\n",
              "      <td>6</td>\n",
              "      <td>148</td>\n",
              "      <td>72</td>\n",
              "      <td>35</td>\n",
              "      <td>0</td>\n",
              "      <td>33.6</td>\n",
              "      <td>0.627</td>\n",
              "      <td>50</td>\n",
              "      <td>1</td>\n",
              "    </tr>\n",
              "    <tr>\n",
              "      <th>1</th>\n",
              "      <td>1</td>\n",
              "      <td>85</td>\n",
              "      <td>66</td>\n",
              "      <td>29</td>\n",
              "      <td>0</td>\n",
              "      <td>26.6</td>\n",
              "      <td>0.351</td>\n",
              "      <td>31</td>\n",
              "      <td>0</td>\n",
              "    </tr>\n",
              "    <tr>\n",
              "      <th>2</th>\n",
              "      <td>8</td>\n",
              "      <td>183</td>\n",
              "      <td>64</td>\n",
              "      <td>0</td>\n",
              "      <td>0</td>\n",
              "      <td>23.3</td>\n",
              "      <td>0.672</td>\n",
              "      <td>32</td>\n",
              "      <td>1</td>\n",
              "    </tr>\n",
              "    <tr>\n",
              "      <th>3</th>\n",
              "      <td>1</td>\n",
              "      <td>89</td>\n",
              "      <td>66</td>\n",
              "      <td>23</td>\n",
              "      <td>94</td>\n",
              "      <td>28.1</td>\n",
              "      <td>0.167</td>\n",
              "      <td>21</td>\n",
              "      <td>0</td>\n",
              "    </tr>\n",
              "    <tr>\n",
              "      <th>4</th>\n",
              "      <td>0</td>\n",
              "      <td>137</td>\n",
              "      <td>40</td>\n",
              "      <td>35</td>\n",
              "      <td>168</td>\n",
              "      <td>43.1</td>\n",
              "      <td>2.288</td>\n",
              "      <td>33</td>\n",
              "      <td>1</td>\n",
              "    </tr>\n",
              "    <tr>\n",
              "      <th>5</th>\n",
              "      <td>5</td>\n",
              "      <td>116</td>\n",
              "      <td>74</td>\n",
              "      <td>0</td>\n",
              "      <td>0</td>\n",
              "      <td>25.6</td>\n",
              "      <td>0.201</td>\n",
              "      <td>30</td>\n",
              "      <td>0</td>\n",
              "    </tr>\n",
              "    <tr>\n",
              "      <th>6</th>\n",
              "      <td>3</td>\n",
              "      <td>78</td>\n",
              "      <td>50</td>\n",
              "      <td>32</td>\n",
              "      <td>88</td>\n",
              "      <td>31.0</td>\n",
              "      <td>0.248</td>\n",
              "      <td>26</td>\n",
              "      <td>1</td>\n",
              "    </tr>\n",
              "    <tr>\n",
              "      <th>7</th>\n",
              "      <td>10</td>\n",
              "      <td>115</td>\n",
              "      <td>0</td>\n",
              "      <td>0</td>\n",
              "      <td>0</td>\n",
              "      <td>35.3</td>\n",
              "      <td>0.134</td>\n",
              "      <td>29</td>\n",
              "      <td>0</td>\n",
              "    </tr>\n",
              "    <tr>\n",
              "      <th>8</th>\n",
              "      <td>2</td>\n",
              "      <td>197</td>\n",
              "      <td>70</td>\n",
              "      <td>45</td>\n",
              "      <td>543</td>\n",
              "      <td>30.5</td>\n",
              "      <td>0.158</td>\n",
              "      <td>53</td>\n",
              "      <td>1</td>\n",
              "    </tr>\n",
              "    <tr>\n",
              "      <th>9</th>\n",
              "      <td>8</td>\n",
              "      <td>125</td>\n",
              "      <td>96</td>\n",
              "      <td>0</td>\n",
              "      <td>0</td>\n",
              "      <td>0.0</td>\n",
              "      <td>0.232</td>\n",
              "      <td>54</td>\n",
              "      <td>1</td>\n",
              "    </tr>\n",
              "  </tbody>\n",
              "</table>\n",
              "</div>"
            ],
            "text/plain": [
              "   Pregnancies  Glucose  BloodPressure  ...  DiabetesPedigreeFunction  Age  Outcome\n",
              "0            6      148             72  ...                     0.627   50        1\n",
              "1            1       85             66  ...                     0.351   31        0\n",
              "2            8      183             64  ...                     0.672   32        1\n",
              "3            1       89             66  ...                     0.167   21        0\n",
              "4            0      137             40  ...                     2.288   33        1\n",
              "5            5      116             74  ...                     0.201   30        0\n",
              "6            3       78             50  ...                     0.248   26        1\n",
              "7           10      115              0  ...                     0.134   29        0\n",
              "8            2      197             70  ...                     0.158   53        1\n",
              "9            8      125             96  ...                     0.232   54        1\n",
              "\n",
              "[10 rows x 9 columns]"
            ]
          },
          "metadata": {},
          "execution_count": 3
        }
      ]
    },
    {
      "cell_type": "code",
      "metadata": {
        "colab": {
          "base_uri": "https://localhost:8080/"
        },
        "id": "4Xa9XdRa_L8m",
        "outputId": "5d99726d-b3d8-44a9-ebbf-f25b66c2a6bc"
      },
      "source": [
        "# number of rows and columns in dataset\n",
        "print(\"Data has {} rows, {} columns\".format(data.shape[0], data.shape[1]))"
      ],
      "execution_count": 4,
      "outputs": [
        {
          "output_type": "stream",
          "name": "stdout",
          "text": [
            "Data has 768 rows, 9 columns\n"
          ]
        }
      ]
    },
    {
      "cell_type": "code",
      "metadata": {
        "colab": {
          "base_uri": "https://localhost:8080/"
        },
        "id": "SdQPMxub_XEC",
        "outputId": "5ef2e443-2988-4395-c0e5-0c4f9e934cc3"
      },
      "source": [
        "#number of nulls in dataset\n",
        "print(\"Data has {} null values\".format(data.isnull().any().sum()))"
      ],
      "execution_count": 5,
      "outputs": [
        {
          "output_type": "stream",
          "name": "stdout",
          "text": [
            "Data has 0 null values\n"
          ]
        }
      ]
    },
    {
      "cell_type": "code",
      "metadata": {
        "colab": {
          "base_uri": "https://localhost:8080/",
          "height": 297
        },
        "id": "mf69v1BR_Zst",
        "outputId": "b4508d83-7536-4da0-cc44-29219163ffe8"
      },
      "source": [
        "# Statistical overview of data\n",
        "data.describe()"
      ],
      "execution_count": 6,
      "outputs": [
        {
          "output_type": "execute_result",
          "data": {
            "text/html": [
              "<div>\n",
              "<style scoped>\n",
              "    .dataframe tbody tr th:only-of-type {\n",
              "        vertical-align: middle;\n",
              "    }\n",
              "\n",
              "    .dataframe tbody tr th {\n",
              "        vertical-align: top;\n",
              "    }\n",
              "\n",
              "    .dataframe thead th {\n",
              "        text-align: right;\n",
              "    }\n",
              "</style>\n",
              "<table border=\"1\" class=\"dataframe\">\n",
              "  <thead>\n",
              "    <tr style=\"text-align: right;\">\n",
              "      <th></th>\n",
              "      <th>Pregnancies</th>\n",
              "      <th>Glucose</th>\n",
              "      <th>BloodPressure</th>\n",
              "      <th>SkinThickness</th>\n",
              "      <th>Insulin</th>\n",
              "      <th>BMI</th>\n",
              "      <th>DiabetesPedigreeFunction</th>\n",
              "      <th>Age</th>\n",
              "      <th>Outcome</th>\n",
              "    </tr>\n",
              "  </thead>\n",
              "  <tbody>\n",
              "    <tr>\n",
              "      <th>count</th>\n",
              "      <td>768.000000</td>\n",
              "      <td>768.000000</td>\n",
              "      <td>768.000000</td>\n",
              "      <td>768.000000</td>\n",
              "      <td>768.000000</td>\n",
              "      <td>768.000000</td>\n",
              "      <td>768.000000</td>\n",
              "      <td>768.000000</td>\n",
              "      <td>768.000000</td>\n",
              "    </tr>\n",
              "    <tr>\n",
              "      <th>mean</th>\n",
              "      <td>3.845052</td>\n",
              "      <td>120.894531</td>\n",
              "      <td>69.105469</td>\n",
              "      <td>20.536458</td>\n",
              "      <td>79.799479</td>\n",
              "      <td>31.992578</td>\n",
              "      <td>0.471876</td>\n",
              "      <td>33.240885</td>\n",
              "      <td>0.348958</td>\n",
              "    </tr>\n",
              "    <tr>\n",
              "      <th>std</th>\n",
              "      <td>3.369578</td>\n",
              "      <td>31.972618</td>\n",
              "      <td>19.355807</td>\n",
              "      <td>15.952218</td>\n",
              "      <td>115.244002</td>\n",
              "      <td>7.884160</td>\n",
              "      <td>0.331329</td>\n",
              "      <td>11.760232</td>\n",
              "      <td>0.476951</td>\n",
              "    </tr>\n",
              "    <tr>\n",
              "      <th>min</th>\n",
              "      <td>0.000000</td>\n",
              "      <td>0.000000</td>\n",
              "      <td>0.000000</td>\n",
              "      <td>0.000000</td>\n",
              "      <td>0.000000</td>\n",
              "      <td>0.000000</td>\n",
              "      <td>0.078000</td>\n",
              "      <td>21.000000</td>\n",
              "      <td>0.000000</td>\n",
              "    </tr>\n",
              "    <tr>\n",
              "      <th>25%</th>\n",
              "      <td>1.000000</td>\n",
              "      <td>99.000000</td>\n",
              "      <td>62.000000</td>\n",
              "      <td>0.000000</td>\n",
              "      <td>0.000000</td>\n",
              "      <td>27.300000</td>\n",
              "      <td>0.243750</td>\n",
              "      <td>24.000000</td>\n",
              "      <td>0.000000</td>\n",
              "    </tr>\n",
              "    <tr>\n",
              "      <th>50%</th>\n",
              "      <td>3.000000</td>\n",
              "      <td>117.000000</td>\n",
              "      <td>72.000000</td>\n",
              "      <td>23.000000</td>\n",
              "      <td>30.500000</td>\n",
              "      <td>32.000000</td>\n",
              "      <td>0.372500</td>\n",
              "      <td>29.000000</td>\n",
              "      <td>0.000000</td>\n",
              "    </tr>\n",
              "    <tr>\n",
              "      <th>75%</th>\n",
              "      <td>6.000000</td>\n",
              "      <td>140.250000</td>\n",
              "      <td>80.000000</td>\n",
              "      <td>32.000000</td>\n",
              "      <td>127.250000</td>\n",
              "      <td>36.600000</td>\n",
              "      <td>0.626250</td>\n",
              "      <td>41.000000</td>\n",
              "      <td>1.000000</td>\n",
              "    </tr>\n",
              "    <tr>\n",
              "      <th>max</th>\n",
              "      <td>17.000000</td>\n",
              "      <td>199.000000</td>\n",
              "      <td>122.000000</td>\n",
              "      <td>99.000000</td>\n",
              "      <td>846.000000</td>\n",
              "      <td>67.100000</td>\n",
              "      <td>2.420000</td>\n",
              "      <td>81.000000</td>\n",
              "      <td>1.000000</td>\n",
              "    </tr>\n",
              "  </tbody>\n",
              "</table>\n",
              "</div>"
            ],
            "text/plain": [
              "       Pregnancies     Glucose  ...         Age     Outcome\n",
              "count   768.000000  768.000000  ...  768.000000  768.000000\n",
              "mean      3.845052  120.894531  ...   33.240885    0.348958\n",
              "std       3.369578   31.972618  ...   11.760232    0.476951\n",
              "min       0.000000    0.000000  ...   21.000000    0.000000\n",
              "25%       1.000000   99.000000  ...   24.000000    0.000000\n",
              "50%       3.000000  117.000000  ...   29.000000    0.000000\n",
              "75%       6.000000  140.250000  ...   41.000000    1.000000\n",
              "max      17.000000  199.000000  ...   81.000000    1.000000\n",
              "\n",
              "[8 rows x 9 columns]"
            ]
          },
          "metadata": {},
          "execution_count": 6
        }
      ]
    },
    {
      "cell_type": "code",
      "metadata": {
        "colab": {
          "base_uri": "https://localhost:8080/"
        },
        "id": "j1Y2SwyQ_e9Q",
        "outputId": "ed236617-2550-432d-8d23-f0165e55e6bb"
      },
      "source": [
        "# brief description of data\n",
        "data.info()"
      ],
      "execution_count": 7,
      "outputs": [
        {
          "output_type": "stream",
          "name": "stdout",
          "text": [
            "<class 'pandas.core.frame.DataFrame'>\n",
            "RangeIndex: 768 entries, 0 to 767\n",
            "Data columns (total 9 columns):\n",
            "Pregnancies                 768 non-null int64\n",
            "Glucose                     768 non-null int64\n",
            "BloodPressure               768 non-null int64\n",
            "SkinThickness               768 non-null int64\n",
            "Insulin                     768 non-null int64\n",
            "BMI                         768 non-null float64\n",
            "DiabetesPedigreeFunction    768 non-null float64\n",
            "Age                         768 non-null int64\n",
            "Outcome                     768 non-null int64\n",
            "dtypes: float64(2), int64(7)\n",
            "memory usage: 54.1 KB\n"
          ]
        }
      ]
    },
    {
      "cell_type": "code",
      "metadata": {
        "colab": {
          "base_uri": "https://localhost:8080/",
          "height": 611
        },
        "id": "AZr8zjTSIQKa",
        "outputId": "c2d188c0-1f38-4725-c48b-145ba7b9c31d"
      },
      "source": [
        "f, ax = plt.subplots(figsize = (15, 10)) # set size of the plot\n",
        "\n",
        "sns.boxplot(x = \"variable\", y = \"value\", data = pd.melt(data), ax = ax) # use box plot to visualize outliers\n",
        "plt.show() # display plot"
      ],
      "execution_count": 8,
      "outputs": [
        {
          "output_type": "display_data",
          "data": {
            "image/png": "[encoded data removed]",
            "text/plain": [
              "<Figure size 1080x720 with 1 Axes>"
            ]
          },
          "metadata": {
            "needs_background": "light"
          }
        }
      ]
    },
    {
      "cell_type": "code",
      "metadata": {
        "id": "eKfgomAPI9K0"
      },
      "source": [
        "def handleOutliers(data):\n",
        "  Q1 = data.quantile(0.25) # calculate first quantile\n",
        "  Q3 = data.quantile(0.75) # calculate third quantile\n",
        "  IQR1 = Q3-Q1 # calculate inter quartile range\n",
        "\n",
        "  data_c = data[~((data < (Q1-1.5*IQR1))|(data > (Q3+1.5*IQR1))).any(axis = 1)] # initialise data w/o outliers (drop outliers)\n",
        "\n",
        "  print('Data loss is {}%'.format(((len(data) - len(data_c))/len(data))*100)) # report data loss\n",
        "  return data_c.reset_index(drop = True)"
      ],
      "execution_count": 9,
      "outputs": []
    },
    {
      "cell_type": "code",
      "metadata": {
        "colab": {
          "base_uri": "https://localhost:8080/"
        },
        "id": "2IaX8YxXLYUp",
        "outputId": "492534bd-051c-4634-d2c4-2972411eebd4"
      },
      "source": [
        "data = handleOutliers(data) # drop outliers"
      ],
      "execution_count": 10,
      "outputs": [
        {
          "output_type": "stream",
          "name": "stderr",
          "text": [
            "2021-10-04 09:25:41,568 [INFO]  NumExpr defaulting to 2 threads.\n"
          ]
        },
        {
          "output_type": "stream",
          "name": "stdout",
          "text": [
            "Data loss is 16.796875%\n"
          ]
        }
      ]
    },
    {
      "cell_type": "code",
      "metadata": {
        "id": "qlgM0Ko9LlPu"
      },
      "source": [
        "def countMissing(data, col):\n",
        "  return len(data[data[col] == 0]) # return count of missing values in column col"
      ],
      "execution_count": 11,
      "outputs": []
    },
    {
      "cell_type": "code",
      "metadata": {
        "colab": {
          "base_uri": "https://localhost:8080/",
          "height": 594
        },
        "id": "h4iSgyoyQ5m0",
        "outputId": "372e1923-2554-4c6b-ba8e-6efb7dca25fe"
      },
      "source": [
        "cols = list(data.columns)[1:-1] # columns check for missing values\n",
        "missing_counts = [] # count of missing values\n",
        "\n",
        "# for each column in columns\n",
        "for col in cols:\n",
        "  missing_counts.append(countMissing(data, col))\n",
        "\n",
        "f, ax = plt.subplots(figsize = (15, 10)) # set size of the plot\n",
        "\n",
        "sns.barplot(x = cols, y = missing_counts) # plot bar plot\n",
        "plt.show() # display plot"
      ],
      "execution_count": 12,
      "outputs": [
        {
          "output_type": "display_data",
          "data": {
            "image/png": "[encoded data removed]",
            "text/plain": [
              "<Figure size 1080x720 with 1 Axes>"
            ]
          },
          "metadata": {
            "needs_background": "light"
          }
        }
      ]
    },
    {
      "cell_type": "code",
      "metadata": {
        "id": "0szwDKTz0wpj"
      },
      "source": [
        "# function to impute missing values in a given column\n",
        "def impute(data, input_columns, column):\n",
        "  #using simple imputer method\n",
        "  imputer = datawig.SimpleImputer(\n",
        "      input_columns = input_columns, # use ip_columns for imputation\n",
        "      output_column = column\n",
        "  )\n",
        "\n",
        "  #fit data\n",
        "  imputer.fit(data[data[column]!=0])\n",
        "\n",
        "  # impute missing values\n",
        "  imputed = imputer.predict(data[data[column] == 0])\n",
        "\n",
        "  index = imputed.index # index of imputed values\n",
        "  # replace values in data\n",
        "  for i in index:\n",
        "    data.at[i, column] = imputed.at[i, (column + \"_imputed\")]\n",
        "  \n",
        "  return data"
      ],
      "execution_count": 13,
      "outputs": []
    },
    {
      "cell_type": "code",
      "metadata": {
        "id": "VL_3SESjXLAB",
        "colab": {
          "base_uri": "https://localhost:8080/"
        },
        "outputId": "c49737cb-b8b5-48f0-f056-0060e74bf57a"
      },
      "source": [
        "# columns to use as input to impute missing values of features\n",
        "input_columns = list(np.array(data.columns)[(np.array(data.columns) != \"SkinThickness\") & (np.array(data.columns) != \"Insulin\")][:-1])\n",
        "\n",
        "# impute missing values for SkinThickness column\n",
        "data_c = impute(data, input_columns, \"SkinThickness\")\n",
        "\n",
        "# impute missing values for Insulin column\n",
        "data_c = impute(data, input_columns, \"Insulin\")\n",
        "\n",
        "data = data_c"
      ],
      "execution_count": 14,
      "outputs": [
        {
          "output_type": "stream",
          "name": "stderr",
          "text": [
            "2021-10-04 09:25:41,933 [INFO]  \n",
            "========== start: fit model\n",
            "2021-10-04 09:25:41,935 [WARNING]  Already bound, ignoring bind()\n",
            "2021-10-04 09:25:41,962 [INFO]  Epoch[0] Batch [0-13]\tSpeed: 10652.07 samples/sec\tcross-entropy=10.380099\tSkinThickness-accuracy=0.000000\n",
            "2021-10-04 09:25:41,983 [INFO]  Epoch[0] Train-cross-entropy=10.223893\n",
            "2021-10-04 09:25:41,985 [INFO]  Epoch[0] Train-SkinThickness-accuracy=0.000000\n",
            "2021-10-04 09:25:41,987 [INFO]  Epoch[0] Time cost=0.048\n",
            "2021-10-04 09:25:41,992 [INFO]  Saved checkpoint to \"skinthickness/model-0000.params\"\n",
            "2021-10-04 09:25:41,997 [INFO]  Epoch[0] Validation-cross-entropy=11.279492\n",
            "2021-10-04 09:25:41,999 [INFO]  Epoch[0] Validation-SkinThickness-accuracy=0.000000\n",
            "2021-10-04 09:25:42,025 [INFO]  Epoch[1] Batch [0-13]\tSpeed: 9724.08 samples/sec\tcross-entropy=8.496121\tSkinThickness-accuracy=0.000000\n",
            "2021-10-04 09:25:42,050 [INFO]  Epoch[1] Train-cross-entropy=8.919505\n",
            "2021-10-04 09:25:42,052 [INFO]  Epoch[1] Train-SkinThickness-accuracy=0.000000\n",
            "2021-10-04 09:25:42,054 [INFO]  Epoch[1] Time cost=0.053\n",
            "2021-10-04 09:25:42,060 [INFO]  Saved checkpoint to \"skinthickness/model-0001.params\"\n",
            "2021-10-04 09:25:42,066 [INFO]  Epoch[1] Validation-cross-entropy=10.682210\n",
            "2021-10-04 09:25:42,071 [INFO]  Epoch[1] Validation-SkinThickness-accuracy=0.000000\n",
            "2021-10-04 09:25:42,096 [INFO]  Epoch[2] Batch [0-13]\tSpeed: 9887.18 samples/sec\tcross-entropy=8.050932\tSkinThickness-accuracy=0.000000\n",
            "2021-10-04 09:25:42,115 [INFO]  Epoch[2] Train-cross-entropy=8.473167\n",
            "2021-10-04 09:25:42,117 [INFO]  Epoch[2] Train-SkinThickness-accuracy=0.000000\n",
            "2021-10-04 09:25:42,119 [INFO]  Epoch[2] Time cost=0.046\n",
            "2021-10-04 09:25:42,124 [INFO]  Saved checkpoint to \"skinthickness/model-0002.params\"\n",
            "2021-10-04 09:25:42,129 [INFO]  Epoch[2] Validation-cross-entropy=10.548237\n",
            "2021-10-04 09:25:42,131 [INFO]  Epoch[2] Validation-SkinThickness-accuracy=0.000000\n",
            "2021-10-04 09:25:42,158 [INFO]  Epoch[3] Batch [0-13]\tSpeed: 10011.54 samples/sec\tcross-entropy=7.924694\tSkinThickness-accuracy=0.000000\n",
            "2021-10-04 09:25:42,176 [INFO]  Epoch[3] Train-cross-entropy=8.297973\n",
            "2021-10-04 09:25:42,178 [INFO]  Epoch[3] Train-SkinThickness-accuracy=0.000000\n",
            "2021-10-04 09:25:42,180 [INFO]  Epoch[3] Time cost=0.047\n",
            "2021-10-04 09:25:42,186 [INFO]  Saved checkpoint to \"skinthickness/model-0003.params\"\n",
            "2021-10-04 09:25:42,192 [INFO]  Epoch[3] Validation-cross-entropy=10.499002\n",
            "2021-10-04 09:25:42,195 [INFO]  Epoch[3] Validation-SkinThickness-accuracy=0.000000\n",
            "2021-10-04 09:25:42,219 [INFO]  Epoch[4] Batch [0-13]\tSpeed: 11275.74 samples/sec\tcross-entropy=7.823776\tSkinThickness-accuracy=0.000000\n",
            "2021-10-04 09:25:42,249 [INFO]  Epoch[4] Train-cross-entropy=8.166594\n",
            "2021-10-04 09:25:42,250 [INFO]  Epoch[4] Train-SkinThickness-accuracy=0.000000\n",
            "2021-10-04 09:25:42,252 [INFO]  Epoch[4] Time cost=0.054\n",
            "2021-10-04 09:25:42,260 [INFO]  Saved checkpoint to \"skinthickness/model-0004.params\"\n",
            "2021-10-04 09:25:42,268 [INFO]  Epoch[4] Validation-cross-entropy=10.497474\n",
            "2021-10-04 09:25:42,270 [INFO]  Epoch[4] Validation-SkinThickness-accuracy=0.000000\n",
            "2021-10-04 09:25:42,303 [INFO]  Epoch[5] Batch [0-13]\tSpeed: 7705.35 samples/sec\tcross-entropy=7.748141\tSkinThickness-accuracy=0.000000\n",
            "2021-10-04 09:25:42,324 [INFO]  Epoch[5] Train-cross-entropy=8.067391\n",
            "2021-10-04 09:25:42,326 [INFO]  Epoch[5] Train-SkinThickness-accuracy=0.000000\n",
            "2021-10-04 09:25:42,342 [INFO]  Epoch[5] Time cost=0.069\n",
            "2021-10-04 09:25:42,354 [INFO]  Saved checkpoint to \"skinthickness/model-0005.params\"\n",
            "2021-10-04 09:25:42,361 [INFO]  Epoch[5] Validation-cross-entropy=10.497871\n",
            "2021-10-04 09:25:42,363 [INFO]  Epoch[5] Validation-SkinThickness-accuracy=0.000000\n",
            "2021-10-04 09:25:42,386 [INFO]  Epoch[6] Batch [0-13]\tSpeed: 10735.96 samples/sec\tcross-entropy=7.672959\tSkinThickness-accuracy=0.000000\n",
            "2021-10-04 09:25:42,406 [INFO]  Epoch[6] Train-cross-entropy=7.979865\n",
            "2021-10-04 09:25:42,408 [INFO]  Epoch[6] Train-SkinThickness-accuracy=0.000000\n",
            "2021-10-04 09:25:42,411 [INFO]  Epoch[6] Time cost=0.046\n",
            "2021-10-04 09:25:42,424 [INFO]  Saved checkpoint to \"skinthickness/model-0006.params\"\n",
            "2021-10-04 09:25:42,431 [INFO]  Epoch[6] Validation-cross-entropy=10.511477\n",
            "2021-10-04 09:25:42,432 [INFO]  Epoch[6] Validation-SkinThickness-accuracy=0.000000\n",
            "2021-10-04 09:25:42,458 [INFO]  Epoch[7] Batch [0-13]\tSpeed: 11045.61 samples/sec\tcross-entropy=7.608833\tSkinThickness-accuracy=0.000000\n",
            "2021-10-04 09:25:42,478 [INFO]  Epoch[7] Train-cross-entropy=7.904702\n",
            "2021-10-04 09:25:42,480 [INFO]  Epoch[7] Train-SkinThickness-accuracy=0.000000\n",
            "2021-10-04 09:25:42,483 [INFO]  Epoch[7] Time cost=0.049\n",
            "2021-10-04 09:25:42,492 [INFO]  Saved checkpoint to \"skinthickness/model-0007.params\"\n",
            "2021-10-04 09:25:42,502 [INFO]  Epoch[7] Validation-cross-entropy=10.524377\n",
            "2021-10-04 09:25:42,503 [INFO]  Epoch[7] Validation-SkinThickness-accuracy=0.000000\n",
            "2021-10-04 09:25:42,528 [INFO]  Epoch[8] Batch [0-13]\tSpeed: 11382.69 samples/sec\tcross-entropy=7.541087\tSkinThickness-accuracy=0.000000\n",
            "2021-10-04 09:25:42,547 [INFO]  Epoch[8] Train-cross-entropy=7.830948\n",
            "2021-10-04 09:25:42,549 [INFO]  Epoch[8] Train-SkinThickness-accuracy=0.000000\n",
            "2021-10-04 09:25:42,552 [INFO]  Epoch[8] Time cost=0.045\n",
            "2021-10-04 09:25:42,564 [INFO]  Saved checkpoint to \"skinthickness/model-0008.params\"\n",
            "2021-10-04 09:25:42,573 [INFO]  Epoch[8] Validation-cross-entropy=10.537822\n",
            "2021-10-04 09:25:42,576 [INFO]  Epoch[8] Validation-SkinThickness-accuracy=0.000000\n",
            "2021-10-04 09:25:42,604 [INFO]  Epoch[9] Batch [0-13]\tSpeed: 9229.08 samples/sec\tcross-entropy=7.477355\tSkinThickness-accuracy=0.000000\n",
            "2021-10-04 09:25:42,625 [INFO]  Epoch[9] Train-cross-entropy=7.762229\n",
            "2021-10-04 09:25:42,627 [INFO]  Epoch[9] Train-SkinThickness-accuracy=0.000000\n",
            "2021-10-04 09:25:42,631 [INFO]  Epoch[9] Time cost=0.053\n",
            "2021-10-04 09:25:42,640 [INFO]  Saved checkpoint to \"skinthickness/model-0009.params\"\n",
            "2021-10-04 09:25:42,649 [INFO]  No improvement detected for 5 epochs compared to 10.497474352518717 last error obtained: 10.539060910542807, stopping here\n",
            "2021-10-04 09:25:42,653 [INFO]  \n",
            "========== done (0.7205688953399658 s) fit model\n"
          ]
        }
      ]
    },
    {
      "cell_type": "code",
      "metadata": {
        "id": "HAncGxzP5Hb6"
      },
      "source": [
        "y = data['Outcome'] #target variable\n",
        "X = data.drop('Outcome', axis = 1) #predictors\n",
        "\n",
        "# split data into train (90%) and test(10%) set\n",
        "Xtrain, Xtest, Ytrain, Ytest = model_selection.train_test_split(X, y, test_size = 0.1, random_state = 1)"
      ],
      "execution_count": 15,
      "outputs": []
    },
    {
      "cell_type": "code",
      "metadata": {
        "colab": {
          "base_uri": "https://localhost:8080/",
          "height": 285
        },
        "id": "M3MEkZwo6cQC",
        "outputId": "833ab5ed-c97c-4a14-e054-4b76d532ca57"
      },
      "source": [
        "sns.countplot(x = Ytrain)\n",
        "\n",
        "plt.show()"
      ],
      "execution_count": 16,
      "outputs": [
        {
          "output_type": "display_data",
          "data": {
            "image/png": "[encoded data removed]",
            "text/plain": [
              "<Figure size 432x288 with 1 Axes>"
            ]
          },
          "metadata": {
            "needs_background": "light"
          }
        }
      ]
    },
    {
      "cell_type": "code",
      "metadata": {
        "colab": {
          "base_uri": "https://localhost:8080/",
          "height": 448
        },
        "id": "kU4JXIsB6h-V",
        "outputId": "93ba8526-078d-4c71-9899-3fe5b488bfe2"
      },
      "source": [
        "f, ax = plt.subplots(nrows = 1, ncols = 2, figsize = (10, 7)) # set up plot \n",
        "\n",
        "# visualise distribution in Ytrain\n",
        "\n",
        "sns.countplot(x = Ytrain, ax = ax[0]) # plot bar plot\n",
        "\n",
        "# plot a pie chart\n",
        "ax[1].pie(x = Ytrain.value_counts().values, labels = Ytrain.value_counts().index, autopct = \"%.2f%%\")\n",
        "ax[1].set_title(\"Percentage distribution\") # set title\n",
        "\n",
        "# display plots\n",
        "plt.show()"
      ],
      "execution_count": 17,
      "outputs": [
        {
          "output_type": "display_data",
          "data": {
            "image/png": "[encoded data removed]",
            "text/plain": [
              "<Figure size 720x504 with 2 Axes>"
            ]
          },
          "metadata": {
            "needs_background": "light"
          }
        }
      ]
    },
    {
      "cell_type": "code",
      "metadata": {
        "id": "kVZitzIs7jSI",
        "colab": {
          "base_uri": "https://localhost:8080/"
        },
        "outputId": "c7ae813b-d5f9-46a0-ebc0-0aea09344f18"
      },
      "source": [
        "#oversample considering 5 nearest neighbours such that |outcome=1|/|outcome=0| = 3/7\n",
        "smote = SMOTE(sampling_strategy = 1, k_neighbors = 5, random_state = 9)\n",
        "under = RandomUnderSampler(sampling_strategy = 1, random_state = 9) #undersample such that |outcome=1|/|outcome=0| = 0.5\n",
        "\n",
        "Xtrain, Ytrain = smote.fit_resample(Xtrain, Ytrain) #apply oversampling\n",
        "Xtrain, Ytrain = under.fit_resample(Xtrain, Ytrain) #apply undersampling"
      ],
      "execution_count": 18,
      "outputs": [
        {
          "output_type": "stream",
          "name": "stderr",
          "text": [
            "/usr/local/lib/python3.7/dist-packages/sklearn/utils/deprecation.py:87: FutureWarning: Function safe_indexing is deprecated; safe_indexing is deprecated in version 0.22 and will be removed in version 0.24.\n",
            "  warnings.warn(msg, category=FutureWarning)\n",
            "/usr/local/lib/python3.7/dist-packages/sklearn/utils/deprecation.py:87: FutureWarning: Function safe_indexing is deprecated; safe_indexing is deprecated in version 0.22 and will be removed in version 0.24.\n",
            "  warnings.warn(msg, category=FutureWarning)\n"
          ]
        }
      ]
    },
    {
      "cell_type": "code",
      "metadata": {
        "colab": {
          "base_uri": "https://localhost:8080/"
        },
        "id": "2lok4t198dzD",
        "outputId": "7ab403ea-5d41-4be1-ba9a-e93f0aaba667"
      },
      "source": [
        "print('Class \\tDistribution\\n1\\t', len(Ytrain[Ytrain==1])/len(Ytrain)*100, '% \\n0\\t', len(Ytrain[Ytrain==0])/len(Ytrain)*100, '%')"
      ],
      "execution_count": 19,
      "outputs": [
        {
          "output_type": "stream",
          "name": "stdout",
          "text": [
            "Class \tDistribution\n",
            "1\t 50.0 % \n",
            "0\t 50.0 %\n"
          ]
        }
      ]
    },
    {
      "cell_type": "code",
      "metadata": {
        "id": "-Txe_zeH_NEY"
      },
      "source": [
        "scaler = StandardScaler() #scaler processor\n",
        "\n",
        "Xtrain = scaler.fit_transform(Xtrain) #Standardize features by removing the mean and scaling to unit variance\n",
        "Xtest = scaler.transform(Xtest) #apply standardisation to test data"
      ],
      "execution_count": 20,
      "outputs": []
    },
    {
      "cell_type": "markdown",
      "metadata": {
        "id": "5bKUiVk4eo-A"
      },
      "source": [
        "**Applying Machine Learning**"
      ]
    },
    {
      "cell_type": "code",
      "metadata": {
        "colab": {
          "base_uri": "https://localhost:8080/"
        },
        "id": "O5simzcNCBYz",
        "outputId": "4d5b3701-f02e-41ab-8165-f72e73ef3ae4"
      },
      "source": [
        "params = {'C' : [0.0001, 0.0003, 0.0005, 0.001, 0.003, 0.005, 0.01, 0.03, 0.05, 0.1, 0.3, 0.5]} # values of C parameter in LR to try for\n",
        "\n",
        "clf_lr = GridSearchCV(LogisticRegression(), params) # Logistic Regression\n",
        "\n",
        "clf_lr.fit(Xtrain, Ytrain) # train LR model"
      ],
      "execution_count": 21,
      "outputs": [
        {
          "output_type": "execute_result",
          "data": {
            "text/plain": [
              "GridSearchCV(cv=None, error_score=nan,\n",
              "             estimator=LogisticRegression(C=1.0, class_weight=None, dual=False,\n",
              "                                          fit_intercept=True,\n",
              "                                          intercept_scaling=1, l1_ratio=None,\n",
              "                                          max_iter=100, multi_class='auto',\n",
              "                                          n_jobs=None, penalty='l2',\n",
              "                                          random_state=None, solver='lbfgs',\n",
              "                                          tol=0.0001, verbose=0,\n",
              "                                          warm_start=False),\n",
              "             iid='deprecated', n_jobs=None,\n",
              "             param_grid={'C': [0.0001, 0.0003, 0.0005, 0.001, 0.003, 0.005,\n",
              "                               0.01, 0.03, 0.05, 0.1, 0.3, 0.5]},\n",
              "             pre_dispatch='2*n_jobs', refit=True, return_train_score=False,\n",
              "             scoring=None, verbose=0)"
            ]
          },
          "metadata": {},
          "execution_count": 21
        }
      ]
    },
    {
      "cell_type": "code",
      "metadata": {
        "id": "vEY7JRX7CR6I"
      },
      "source": [
        "def getF1Score(clf, Ytest, Xtest):\n",
        "  return f1_score(Ytest, clf.predict(Xtest))"
      ],
      "execution_count": 22,
      "outputs": []
    },
    {
      "cell_type": "code",
      "metadata": {
        "colab": {
          "base_uri": "https://localhost:8080/",
          "height": 285
        },
        "id": "kdo_YmHBCEWE",
        "outputId": "f6ac345d-3dc7-48fd-fb47-56bfb7d4abaf"
      },
      "source": [
        "knn_au_y = [] # to store k values\n",
        "knn_au_x = [] # to store AUPRC score corresponding to k values\n",
        "\n",
        "# loop over every odd integer from 3 to 21 and use it as n_neighbors in Knn\n",
        "for k in range(3, 21, 2): \n",
        "  clf = KNeighborsClassifier(n_neighbors=k, metric='euclidean') #set up KNN model\n",
        "  clf.fit(Xtrain, Ytrain) #fit model\n",
        "  knn_au_y.append(getF1Score(clf, Ytest, Xtest)) #append AUPRC score\n",
        "  knn_au_x.append(k) #append K value\n",
        "\n",
        "sns.scatterplot(x = knn_au_x, y = knn_au_y) #scatterplot\n",
        "\n",
        "plt.ylabel(\"F1 score\") # label y-axis 'AUPRC score'\n",
        "plt.xlabel(\"K - values\") # label x-axis 'Algorithms'\n",
        "\n",
        "plt.show() # display plot"
      ],
      "execution_count": 23,
      "outputs": [
        {
          "output_type": "display_data",
          "data": {
            "image/png": "[encoded data removed]",
            "text/plain": [
              "<Figure size 432x288 with 1 Axes>"
            ]
          },
          "metadata": {
            "needs_background": "light"
          }
        }
      ]
    },
    {
      "cell_type": "code",
      "metadata": {
        "colab": {
          "base_uri": "https://localhost:8080/"
        },
        "id": "LxgSq5D7Coi7",
        "outputId": "b5c99015-42c8-4bf6-a7ce-2d65426aa0fd"
      },
      "source": [
        "clf_knn = KNeighborsClassifier(n_neighbors=15, metric='euclidean') # using K = 15 \n",
        "clf_knn.fit(Xtrain, Ytrain) #fit model"
      ],
      "execution_count": 24,
      "outputs": [
        {
          "output_type": "execute_result",
          "data": {
            "text/plain": [
              "KNeighborsClassifier(algorithm='auto', leaf_size=30, metric='euclidean',\n",
              "                     metric_params=None, n_jobs=None, n_neighbors=15, p=2,\n",
              "                     weights='uniform')"
            ]
          },
          "metadata": {},
          "execution_count": 24
        }
      ]
    },
    {
      "cell_type": "code",
      "metadata": {
        "colab": {
          "base_uri": "https://localhost:8080/"
        },
        "id": "bPBonRihC1lL",
        "outputId": "06b9247a-c19c-482c-8fd3-923161b768a0"
      },
      "source": [
        "clf_rf = RandomForestClassifier() # Random Forest Classifier\n",
        "clf_rf.fit(Xtrain, Ytrain) # train RF clf"
      ],
      "execution_count": 25,
      "outputs": [
        {
          "output_type": "execute_result",
          "data": {
            "text/plain": [
              "RandomForestClassifier(bootstrap=True, ccp_alpha=0.0, class_weight=None,\n",
              "                       criterion='gini', max_depth=None, max_features='auto',\n",
              "                       max_leaf_nodes=None, max_samples=None,\n",
              "                       min_impurity_decrease=0.0, min_impurity_split=None,\n",
              "                       min_samples_leaf=1, min_samples_split=2,\n",
              "                       min_weight_fraction_leaf=0.0, n_estimators=100,\n",
              "                       n_jobs=None, oob_score=False, random_state=None,\n",
              "                       verbose=0, warm_start=False)"
            ]
          },
          "metadata": {},
          "execution_count": 25
        }
      ]
    },
    {
      "cell_type": "code",
      "metadata": {
        "colab": {
          "base_uri": "https://localhost:8080/",
          "height": 285
        },
        "id": "Io_4ZhIrDHMG",
        "outputId": "96a94fc5-f8dc-4f75-dd18-7afdda083106"
      },
      "source": [
        "plotX = [\"LR\", \"RF\", \"KNN\"] # datapoints for x-axis of plot \n",
        "plotY = [getF1Score(clf_lr, Ytest, Xtest), getF1Score(clf_rf, Ytest, Xtest), getF1Score(clf_knn, Ytest, Xtest)] # datapoints for y-axis of plot\n",
        "\n",
        "sns.scatterplot(x = plotX, y = plotY) #scatterplot\n",
        "\n",
        "plt.ylabel(\"AUPRC score\") # label y-axis 'AUPRC score'\n",
        "plt.xlabel(\"Algorithms\") # label x-axis 'Algorithms'\n",
        "\n",
        "plt.show() # display plot"
      ],
      "execution_count": 26,
      "outputs": [
        {
          "output_type": "display_data",
          "data": {
            "image/png": "[encoded data removed]",
            "text/plain": [
              "<Figure size 432x288 with 1 Axes>"
            ]
          },
          "metadata": {
            "needs_background": "light"
          }
        }
      ]
    },
    {
      "cell_type": "code",
      "metadata": {
        "colab": {
          "base_uri": "https://localhost:8080/",
          "height": 355
        },
        "id": "3zPm-omGDsiI",
        "outputId": "88a1b0de-2453-423a-be3d-42649c443b92"
      },
      "source": [
        "f, ax = plt.subplots(figsize=(5,5)) #set up plot\n",
        "\n",
        "logreg_cm = confusion_matrix(Ytest, clf_lr.predict(Xtest)) # calculate confusion matrix\n",
        "sns.heatmap(logreg_cm, annot=True, linewidth=0.7, linecolor='red', fmt='g', ax=ax, cmap=\"BuPu\") #plot a heatmap using seaborn\n",
        "\n",
        "plt.title('LR Classification Confusion Matrix') # set title to plot\n",
        "#set labels to plot\n",
        "plt.xlabel('Y predict')\n",
        "plt.ylabel('Y test')\n",
        "\n",
        "plt.show() #display plot"
      ],
      "execution_count": 27,
      "outputs": [
        {
          "output_type": "display_data",
          "data": {
            "image/png": "[encoded data removed]",
            "text/plain": [
              "<Figure size 360x360 with 2 Axes>"
            ]
          },
          "metadata": {
            "needs_background": "light"
          }
        }
      ]
    },
    {
      "cell_type": "code",
      "metadata": {
        "colab": {
          "base_uri": "https://localhost:8080/"
        },
        "id": "yAjyRi4vD8vn",
        "outputId": "d7541615-a75c-40b7-8119-274720449e9b"
      },
      "source": [
        "print(\"Accuracy obtained using LR classifier is : {}%\".format(100*clf_lr.score(Xtest, Ytest)))"
      ],
      "execution_count": 28,
      "outputs": [
        {
          "output_type": "stream",
          "name": "stdout",
          "text": [
            "Accuracy obtained using LR classifier is : 82.8125%\n"
          ]
        }
      ]
    },
    {
      "cell_type": "markdown",
      "metadata": {
        "id": "ce8604NHez6p"
      },
      "source": [
        "**Applying Deep Learing**"
      ]
    },
    {
      "cell_type": "code",
      "metadata": {
        "id": "MiG1MymoEEXE"
      },
      "source": [
        "from keras.layers import Activation, Dense, Dropout, BatchNormalization, Input\n",
        "from keras.models import Model\n",
        "from tensorflow.keras.optimizers import Adam\n",
        "from keras.callbacks import ReduceLROnPlateau, EarlyStopping"
      ],
      "execution_count": 29,
      "outputs": []
    },
    {
      "cell_type": "code",
      "metadata": {
        "id": "qL2dqkBvqIMd"
      },
      "source": [
        "inputs = Input(name='inputs', shape=[Xtrain.shape[1],])\n",
        "layer = Dense(128, name='FC1')(inputs)\n",
        "layer = BatchNormalization(name='BC1')(layer)\n",
        "layer = Activation('relu', name='Activation1')(layer)\n",
        "layer = Dropout(0.3, name='Dropout1')(layer)\n",
        "layer = Dense(128, name='FC2')(layer)\n",
        "layer = BatchNormalization(name='BC2')(layer)\n",
        "layer = Activation('relu', name='Activation2')(layer)\n",
        "layer = Dropout(0.3, name='Dropout2')(layer)\n",
        "layer = Dense(128, name='FC3')(layer)\n",
        "layer = BatchNormalization(name='BC3')(layer)\n",
        "layer = Dropout(0.3, name='Dropout3')(layer)\n",
        "layer = Dense(1, name='OutLayer')(layer)\n",
        "layer = Activation('sigmoid', name='sigmoid')(layer)\n",
        "model = Model(inputs=inputs, outputs=layer)"
      ],
      "execution_count": 30,
      "outputs": []
    },
    {
      "cell_type": "code",
      "metadata": {
        "colab": {
          "base_uri": "https://localhost:8080/"
        },
        "id": "TsfwdLfHqd6E",
        "outputId": "8138752c-ed46-4c06-d9db-71f414982c80"
      },
      "source": [
        "model.summary()"
      ],
      "execution_count": 31,
      "outputs": [
        {
          "output_type": "stream",
          "name": "stdout",
          "text": [
            "Model: \"model\"\n",
            "_________________________________________________________________\n",
            "Layer (type)                 Output Shape              Param #   \n",
            "=================================================================\n",
            "inputs (InputLayer)          [(None, 8)]               0         \n",
            "_________________________________________________________________\n",
            "FC1 (Dense)                  (None, 128)               1152      \n",
            "_________________________________________________________________\n",
            "BC1 (BatchNormalization)     (None, 128)               512       \n",
            "_________________________________________________________________\n",
            "Activation1 (Activation)     (None, 128)               0         \n",
            "_________________________________________________________________\n",
            "Dropout1 (Dropout)           (None, 128)               0         \n",
            "_________________________________________________________________\n",
            "FC2 (Dense)                  (None, 128)               16512     \n",
            "_________________________________________________________________\n",
            "BC2 (BatchNormalization)     (None, 128)               512       \n",
            "_________________________________________________________________\n",
            "Activation2 (Activation)     (None, 128)               0         \n",
            "_________________________________________________________________\n",
            "Dropout2 (Dropout)           (None, 128)               0         \n",
            "_________________________________________________________________\n",
            "FC3 (Dense)                  (None, 128)               16512     \n",
            "_________________________________________________________________\n",
            "BC3 (BatchNormalization)     (None, 128)               512       \n",
            "_________________________________________________________________\n",
            "Dropout3 (Dropout)           (None, 128)               0         \n",
            "_________________________________________________________________\n",
            "OutLayer (Dense)             (None, 1)                 129       \n",
            "_________________________________________________________________\n",
            "sigmoid (Activation)         (None, 1)                 0         \n",
            "=================================================================\n",
            "Total params: 35,841\n",
            "Trainable params: 35,073\n",
            "Non-trainable params: 768\n",
            "_________________________________________________________________\n"
          ]
        }
      ]
    },
    {
      "cell_type": "code",
      "metadata": {
        "id": "ZPcD8SyErs78"
      },
      "source": [
        "import keras.backend as K\n",
        "def get_f1(y_true, y_pred): #taken from old keras source code\n",
        "    true_positives = K.sum(K.round(K.clip(y_true * y_pred, 0, 1)))\n",
        "    possible_positives = K.sum(K.round(K.clip(y_true, 0, 1)))\n",
        "    predicted_positives = K.sum(K.round(K.clip(y_pred, 0, 1)))\n",
        "    precision = true_positives / (predicted_positives + K.epsilon())\n",
        "    recall = true_positives / (possible_positives + K.epsilon())\n",
        "    f1_val = 2*(precision*recall)/(precision+recall+K.epsilon())\n",
        "    return f1_val"
      ],
      "execution_count": 36,
      "outputs": []
    },
    {
      "cell_type": "code",
      "metadata": {
        "id": "4d641BVgqgyl"
      },
      "source": [
        "model.compile(loss='binary_crossentropy', optimizer=Adam(), metrics=[get_f1])"
      ],
      "execution_count": 37,
      "outputs": []
    },
    {
      "cell_type": "code",
      "metadata": {
        "id": "EZnqSFIgrGNn"
      },
      "source": [
        "reduce_lr = ReduceLROnPlateau()\n",
        "early_stopping = EarlyStopping(patience=20, min_delta=0.0001)"
      ],
      "execution_count": 38,
      "outputs": []
    },
    {
      "cell_type": "code",
      "metadata": {
        "colab": {
          "base_uri": "https://localhost:8080/"
        },
        "id": "dPcmuayar5ak",
        "outputId": "1a43c917-0ace-4a26-b8a5-fdb86bed4e87"
      },
      "source": [
        "model.fit(x=Xtrain, y=Ytrain, epochs=200, validation_data=(Xtest, Ytest), callbacks=[reduce_lr, early_stopping])"
      ],
      "execution_count": 41,
      "outputs": [
        {
          "output_type": "stream",
          "name": "stdout",
          "text": [
            "Epoch 1/200\n",
            "25/25 [==============================] - 0s 6ms/step - loss: 0.4268 - get_f1: 0.8106 - val_loss: 0.4328 - val_get_f1: 0.6842\n",
            "Epoch 2/200\n",
            "25/25 [==============================] - 0s 4ms/step - loss: 0.4133 - get_f1: 0.8256 - val_loss: 0.4314 - val_get_f1: 0.6684\n",
            "Epoch 3/200\n",
            "25/25 [==============================] - 0s 4ms/step - loss: 0.4120 - get_f1: 0.8155 - val_loss: 0.4303 - val_get_f1: 0.6684\n",
            "Epoch 4/200\n",
            "25/25 [==============================] - 0s 4ms/step - loss: 0.3843 - get_f1: 0.8278 - val_loss: 0.4280 - val_get_f1: 0.6684\n",
            "Epoch 5/200\n",
            "25/25 [==============================] - 0s 4ms/step - loss: 0.4077 - get_f1: 0.8167 - val_loss: 0.4284 - val_get_f1: 0.6684\n",
            "Epoch 6/200\n",
            "25/25 [==============================] - 0s 4ms/step - loss: 0.4119 - get_f1: 0.8169 - val_loss: 0.4284 - val_get_f1: 0.6684\n",
            "Epoch 7/200\n",
            "25/25 [==============================] - 0s 4ms/step - loss: 0.4045 - get_f1: 0.8080 - val_loss: 0.4295 - val_get_f1: 0.6684\n",
            "Epoch 8/200\n",
            "25/25 [==============================] - 0s 4ms/step - loss: 0.4117 - get_f1: 0.8137 - val_loss: 0.4294 - val_get_f1: 0.6684\n",
            "Epoch 9/200\n",
            "25/25 [==============================] - 0s 4ms/step - loss: 0.3850 - get_f1: 0.8322 - val_loss: 0.4279 - val_get_f1: 0.6684\n",
            "Epoch 10/200\n",
            "25/25 [==============================] - 0s 5ms/step - loss: 0.3828 - get_f1: 0.8285 - val_loss: 0.4316 - val_get_f1: 0.6684\n",
            "Epoch 11/200\n",
            "25/25 [==============================] - 0s 4ms/step - loss: 0.3918 - get_f1: 0.8353 - val_loss: 0.4320 - val_get_f1: 0.6684\n",
            "Epoch 12/200\n",
            "25/25 [==============================] - 0s 5ms/step - loss: 0.3899 - get_f1: 0.8464 - val_loss: 0.4325 - val_get_f1: 0.6684\n",
            "Epoch 13/200\n",
            "25/25 [==============================] - 0s 4ms/step - loss: 0.3861 - get_f1: 0.8204 - val_loss: 0.4341 - val_get_f1: 0.6500\n",
            "Epoch 14/200\n",
            "25/25 [==============================] - 0s 4ms/step - loss: 0.4086 - get_f1: 0.8202 - val_loss: 0.4343 - val_get_f1: 0.6684\n",
            "Epoch 15/200\n",
            "25/25 [==============================] - 0s 4ms/step - loss: 0.4017 - get_f1: 0.8299 - val_loss: 0.4350 - val_get_f1: 0.6684\n",
            "Epoch 16/200\n",
            "25/25 [==============================] - 0s 4ms/step - loss: 0.4178 - get_f1: 0.8223 - val_loss: 0.4349 - val_get_f1: 0.6684\n",
            "Epoch 17/200\n",
            "25/25 [==============================] - 0s 4ms/step - loss: 0.4176 - get_f1: 0.8036 - val_loss: 0.4291 - val_get_f1: 0.6684\n",
            "Epoch 18/200\n",
            "25/25 [==============================] - 0s 5ms/step - loss: 0.4107 - get_f1: 0.8185 - val_loss: 0.4331 - val_get_f1: 0.6684\n",
            "Epoch 19/200\n",
            "25/25 [==============================] - 0s 4ms/step - loss: 0.3906 - get_f1: 0.8113 - val_loss: 0.4339 - val_get_f1: 0.6541\n",
            "Epoch 20/200\n",
            "25/25 [==============================] - 0s 4ms/step - loss: 0.4158 - get_f1: 0.8093 - val_loss: 0.4333 - val_get_f1: 0.6684\n",
            "Epoch 21/200\n",
            "25/25 [==============================] - 0s 4ms/step - loss: 0.4123 - get_f1: 0.8181 - val_loss: 0.4327 - val_get_f1: 0.6684\n",
            "Epoch 22/200\n",
            "25/25 [==============================] - 0s 4ms/step - loss: 0.4179 - get_f1: 0.8221 - val_loss: 0.4330 - val_get_f1: 0.6684\n",
            "Epoch 23/200\n",
            "25/25 [==============================] - 0s 5ms/step - loss: 0.4052 - get_f1: 0.8294 - val_loss: 0.4332 - val_get_f1: 0.6684\n",
            "Epoch 24/200\n",
            "25/25 [==============================] - 0s 4ms/step - loss: 0.3753 - get_f1: 0.8292 - val_loss: 0.4321 - val_get_f1: 0.6684\n",
            "Epoch 25/200\n",
            "25/25 [==============================] - 0s 4ms/step - loss: 0.4144 - get_f1: 0.8233 - val_loss: 0.4321 - val_get_f1: 0.6684\n",
            "Epoch 26/200\n",
            "25/25 [==============================] - 0s 4ms/step - loss: 0.3994 - get_f1: 0.8263 - val_loss: 0.4319 - val_get_f1: 0.6684\n",
            "Epoch 27/200\n",
            "25/25 [==============================] - 0s 4ms/step - loss: 0.3675 - get_f1: 0.8289 - val_loss: 0.4316 - val_get_f1: 0.6684\n",
            "Epoch 28/200\n",
            "25/25 [==============================] - 0s 4ms/step - loss: 0.4141 - get_f1: 0.8302 - val_loss: 0.4323 - val_get_f1: 0.6684\n",
            "Epoch 29/200\n",
            "25/25 [==============================] - 0s 4ms/step - loss: 0.3971 - get_f1: 0.8284 - val_loss: 0.4311 - val_get_f1: 0.6684\n"
          ]
        },
        {
          "output_type": "execute_result",
          "data": {
            "text/plain": [
              "<keras.callbacks.History at 0x7f6b1e77fd10>"
            ]
          },
          "metadata": {},
          "execution_count": 41
        }
      ]
    },
    {
      "cell_type": "code",
      "metadata": {
        "colab": {
          "base_uri": "https://localhost:8080/",
          "height": 355
        },
        "id": "Wx0Kp3GVsEj5",
        "outputId": "7b7795b5-892f-4a1f-a346-7e16c6e6413b"
      },
      "source": [
        "f, ax = plt.subplots(figsize=(5,5)) #set up plot\n",
        "\n",
        "logreg_cm = confusion_matrix(Ytest, Y_pred) # calculate confusion matrix\n",
        "sns.heatmap(logreg_cm, annot=True, linewidth=0.7, linecolor='red', fmt='g', ax=ax, cmap=\"BuPu\") #plot a heatmap using seaborn\n",
        "\n",
        "plt.title('LR Classification Confusion Matrix') # set title to plot\n",
        "#set labels to plot\n",
        "plt.xlabel('Y predict')\n",
        "plt.ylabel('Y test')\n",
        "\n",
        "plt.show() #display plot"
      ],
      "execution_count": 56,
      "outputs": [
        {
          "output_type": "display_data",
          "data": {
            "image/png": "[encoded data removed]",
            "text/plain": [
              "<Figure size 360x360 with 2 Axes>"
            ]
          },
          "metadata": {
            "needs_background": "light"
          }
        }
      ]
    },
    {
      "cell_type": "code",
      "metadata": {
        "id": "5hrqA_Osslhd"
      },
      "source": [
        "Y_pred = (((model.predict(Xtest)>0.5).astype('int32')).reshape(1, -1))[0]"
      ],
      "execution_count": 55,
      "outputs": []
    },
    {
      "cell_type": "code",
      "metadata": {
        "id": "zvEevzvDueLb"
      },
      "source": [
        "def get_accuracy(Ytest, Ypred):\n",
        "  return np.sum(np.array(Ytest == Ypred))/len(Ytest)"
      ],
      "execution_count": 67,
      "outputs": []
    },
    {
      "cell_type": "code",
      "metadata": {
        "colab": {
          "base_uri": "https://localhost:8080/"
        },
        "id": "tqr7EUUduyWI",
        "outputId": "02c21da3-eadd-4b14-f9b0-a5fadaea233a"
      },
      "source": [
        "print(\"Accuracy obtained using LR classifier is : {}%\".format(100*get_accuracy(Ytest, Y_pred)))"
      ],
      "execution_count": 69,
      "outputs": [
        {
          "output_type": "stream",
          "name": "stdout",
          "text": [
            "Accuracy obtained using LR classifier is : 79.6875%\n"
          ]
        }
      ]
    }
  ]
}